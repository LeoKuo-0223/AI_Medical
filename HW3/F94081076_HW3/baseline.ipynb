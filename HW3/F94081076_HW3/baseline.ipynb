{
  "nbformat": 4,
  "nbformat_minor": 0,
  "metadata": {
    "file_extension": ".py",
    "kernelspec": {
      "display_name": "Python 3.7.3 64-bit ('base': conda)",
      "language": "python",
      "name": "python37364bitbaseconda25e194332beb4781976fd0b4d3e20954"
    },
    "language_info": {
      "codemirror_mode": {
        "name": "ipython",
        "version": 3
      },
      "file_extension": ".py",
      "mimetype": "text/x-python",
      "name": "python",
      "nbconvert_exporter": "python",
      "pygments_lexer": "ipython3",
      "version": "3.7.3"
    },
    "mimetype": "text/x-python",
    "name": "python",
    "npconvert_exporter": "python",
    "pygments_lexer": "ipython3",
    "version": 3,
    "colab": {
      "name": "baseline.ipynb",
      "provenance": [],
      "collapsed_sections": []
    }
  },
  "cells": [
    {
      "cell_type": "code",
      "metadata": {
        "id": "xAUewAJ0RrnV"
      },
      "source": [
        "import os\n",
        "import sys\n",
        "import numpy as np\n",
        "import pandas as pd\n",
        "from tqdm import tqdm"
      ],
      "execution_count": null,
      "outputs": []
    },
    {
      "cell_type": "code",
      "metadata": {
        "colab": {
          "base_uri": "https://localhost:8080/"
        },
        "id": "V6LWkA3P8HZO",
        "outputId": "9f785cac-8b8c-4506-a235-c1da7dadf58c"
      },
      "source": [
        "from google.colab import drive\n",
        "drive.mount('/content/drive')"
      ],
      "execution_count": null,
      "outputs": [
        {
          "output_type": "stream",
          "name": "stdout",
          "text": [
            "Mounted at /content/drive\n"
          ]
        }
      ]
    },
    {
      "cell_type": "markdown",
      "metadata": {
        "id": "CloK6THIRrnV"
      },
      "source": [
        "## Preprocessing\n",
        "* Change input data (ex. train.txt) into CRF model input format (ex. train.data)\n",
        "    * CRF model input format (ex. train.data):\n",
        "        ```\n",
        "        肝 O\n",
        "        功 O\n",
        "        能 O\n",
        "        6 B-med_exam\n",
        "        8 I-med_exam\n",
        "        ```"
      ]
    },
    {
      "cell_type": "code",
      "metadata": {
        "id": "t1v91VGpRrnV"
      },
      "source": [
        "file_path='/content/drive/MyDrive/DataSet/DataSet/SampleData_deid.txt'"
      ],
      "execution_count": null,
      "outputs": []
    },
    {
      "cell_type": "code",
      "metadata": {
        "id": "KgtHEWd-RrnV"
      },
      "source": [
        "def loadInputFile(path):\n",
        "    trainingset = list()  # store trainingset [content,content,...]\n",
        "    position = list()  # store position [article_id, start_pos, end_pos, entity_text, entity_type, ...]\n",
        "    mentions = dict()  # store mentions[mention] = Type\n",
        "    # word1 = \"醫師\"\n",
        "    # word2 = \"民眾\"  #指定要移除的字串\n",
        "    with open(file_path, 'r', encoding='utf8') as f:\n",
        "        file_text=f.read().encode('utf-8').decode('utf-8-sig')\n",
        "    datas=file_text.split('\\n\\n--------------------\\n\\n')[:-1]\n",
        "    for data in datas:\n",
        "        data=data.split('\\n')\n",
        "        content=data[0]\n",
        "        # content.replace(word1,\"\") #替換成無字元\n",
        "        # content.replace(word2,\"\")\n",
        "        trainingset.append(content)\n",
        "        annotations=data[1:]\n",
        "        for annot in annotations[1:]:\n",
        "            annot=annot.split('\\t') #annot= article_id, start_pos, end_pos, entity_text, entity_type\n",
        "            position.extend(annot)\n",
        "            mentions[annot[3]]=annot[4]\n",
        "\n",
        "    return trainingset, position, mentions"
      ],
      "execution_count": null,
      "outputs": []
    },
    {
      "cell_type": "code",
      "metadata": {
        "id": "5avpn8FTRrnV"
      },
      "source": [
        "def CRFFormatData(trainingset, position, path):\n",
        "    if (os.path.isfile(path)):\n",
        "        os.remove(path)\n",
        "    outputfile = open(path, 'a', encoding= 'utf-8')\n",
        "\n",
        "    # output file lines\n",
        "    count = 0 # annotation counts in each content\n",
        "    tagged = list()\n",
        "    for article_id in range(len(trainingset)):\n",
        "        trainingset_split = list(trainingset[article_id])\n",
        "        while '' or ' ' in trainingset_split:\n",
        "            if '' in trainingset_split:\n",
        "                trainingset_split.remove('')\n",
        "            else:\n",
        "                trainingset_split.remove(' ')\n",
        "        start_tmp = 0\n",
        "        for position_idx in range(0,len(position),5):\n",
        "            if int(position[position_idx]) == article_id:\n",
        "                count += 1\n",
        "                if count == 1:\n",
        "                    start_pos = int(position[position_idx+1])\n",
        "                    end_pos = int(position[position_idx+2])\n",
        "                    entity_type=position[position_idx+4]\n",
        "                    if start_pos == 0:\n",
        "                        token = list(trainingset[article_id][start_pos:end_pos])\n",
        "                        whole_token = trainingset[article_id][start_pos:end_pos]\n",
        "                        for token_idx in range(len(token)):\n",
        "                            if len(token[token_idx].replace(' ','')) == 0:\n",
        "                                continue\n",
        "                            # BIO states\n",
        "                            if token_idx == 0:\n",
        "                                label = 'B-'+entity_type\n",
        "                            else:\n",
        "                                label = 'I-'+entity_type\n",
        "                            \n",
        "                            output_str = token[token_idx] + ' ' + label + '\\n'\n",
        "                            outputfile.write(output_str)\n",
        "\n",
        "                    else:\n",
        "                        token = list(trainingset[article_id][0:start_pos])\n",
        "                        whole_token = trainingset[article_id][0:start_pos]\n",
        "                        for token_idx in range(len(token)):\n",
        "                            if len(token[token_idx].replace(' ','')) == 0:\n",
        "                                continue\n",
        "                            \n",
        "                            output_str = token[token_idx] + ' ' + 'O' + '\\n'\n",
        "                            outputfile.write(output_str)\n",
        "\n",
        "                        token = list(trainingset[article_id][start_pos:end_pos])\n",
        "                        whole_token = trainingset[article_id][start_pos:end_pos]\n",
        "                        for token_idx in range(len(token)):\n",
        "                            if len(token[token_idx].replace(' ','')) == 0:\n",
        "                                continue\n",
        "                            # BIO states\n",
        "                            if token[0] == '':\n",
        "                                if token_idx == 1:\n",
        "                                    label = 'B-'+entity_type\n",
        "                                else:\n",
        "                                    label = 'I-'+entity_type\n",
        "                            else:\n",
        "                                if token_idx == 0:\n",
        "                                    label = 'B-'+entity_type\n",
        "                                else:\n",
        "                                    label = 'I-'+entity_type\n",
        "\n",
        "                            output_str = token[token_idx] + ' ' + label + '\\n'\n",
        "                            outputfile.write(output_str)\n",
        "\n",
        "                    start_tmp = end_pos\n",
        "                else:\n",
        "                    start_pos = int(position[position_idx+1])\n",
        "                    end_pos = int(position[position_idx+2])\n",
        "                    entity_type=position[position_idx+4]\n",
        "                    if start_pos<start_tmp:\n",
        "                        continue\n",
        "                    else:\n",
        "                        token = list(trainingset[article_id][start_tmp:start_pos])\n",
        "                        whole_token = trainingset[article_id][start_tmp:start_pos]\n",
        "                        for token_idx in range(len(token)):\n",
        "                            if len(token[token_idx].replace(' ','')) == 0:\n",
        "                                continue\n",
        "                            output_str = token[token_idx] + ' ' + 'O' + '\\n'\n",
        "                            outputfile.write(output_str)\n",
        "\n",
        "                    token = list(trainingset[article_id][start_pos:end_pos])\n",
        "                    whole_token = trainingset[article_id][start_pos:end_pos]\n",
        "                    for token_idx in range(len(token)):\n",
        "                        if len(token[token_idx].replace(' ','')) == 0:\n",
        "                            continue\n",
        "                        # BIO states\n",
        "                        if token[0] == '':\n",
        "                            if token_idx == 1:\n",
        "                                label = 'B-'+entity_type\n",
        "                            else:\n",
        "                                label = 'I-'+entity_type\n",
        "                        else:\n",
        "                            if token_idx == 0:\n",
        "                                label = 'B-'+entity_type\n",
        "                            else:\n",
        "                                label = 'I-'+entity_type\n",
        "                        \n",
        "                        output_str = token[token_idx] + ' ' + label + '\\n'\n",
        "                        outputfile.write(output_str)\n",
        "                    start_tmp = end_pos\n",
        "\n",
        "        token = list(trainingset[article_id][start_tmp:])\n",
        "        whole_token = trainingset[article_id][start_tmp:]\n",
        "        for token_idx in range(len(token)):\n",
        "            if len(token[token_idx].replace(' ','')) == 0:\n",
        "                continue\n",
        "\n",
        "            \n",
        "            output_str = token[token_idx] + ' ' + 'O' + '\\n'\n",
        "            outputfile.write(output_str)\n",
        "\n",
        "        count = 0\n",
        "    \n",
        "        output_str = '\\n'\n",
        "        outputfile.write(output_str)\n",
        "        ID = trainingset[article_id]\n",
        "\n",
        "        if article_id%10 == 0:\n",
        "            print('Total complete articles:', article_id)\n",
        "\n",
        "    # close output file\n",
        "    outputfile.close()"
      ],
      "execution_count": null,
      "outputs": []
    },
    {
      "cell_type": "code",
      "metadata": {
        "id": "G_4dYniVRrnV"
      },
      "source": [
        "trainingset, position, mentions=loadInputFile(file_path)"
      ],
      "execution_count": null,
      "outputs": []
    },
    {
      "cell_type": "code",
      "metadata": {
        "id": "Nk4hGQu1RrnV",
        "colab": {
          "base_uri": "https://localhost:8080/"
        },
        "outputId": "b1066973-df9a-4c11-d5eb-89908867233a"
      },
      "source": [
        "data_path='/content/drive/MyDrive/DataSet/DataSet/sample.data'\n",
        "CRFFormatData(trainingset, position, data_path)"
      ],
      "execution_count": null,
      "outputs": [
        {
          "output_type": "stream",
          "name": "stdout",
          "text": [
            "Total complete articles: 0\n",
            "Total complete articles: 10\n",
            "Total complete articles: 20\n"
          ]
        }
      ]
    },
    {
      "cell_type": "markdown",
      "metadata": {
        "id": "zuYBIWnlRrnW"
      },
      "source": [
        "## NER model\n",
        "### CRF (Conditional Random Field model)\n",
        "* Using `sklearn-crfsuite` API\n",
        "\n",
        "    (you may try `CRF++`, `python-crfsuite`, `pytorch-crfsuite`(neural network version))"
      ]
    },
    {
      "cell_type": "code",
      "metadata": {
        "id": "mI9UJRfKRrnW",
        "colab": {
          "base_uri": "https://localhost:8080/"
        },
        "outputId": "48a7b1e8-91a7-403a-abfd-ba46b6667770"
      },
      "source": [
        "!pip install sklearn-crfsuite\n",
        "import sklearn_crfsuite\n",
        "\n",
        "from sklearn_crfsuite import scorers\n",
        "from sklearn_crfsuite import metrics\n",
        "from sklearn_crfsuite.metrics import flat_classification_report"
      ],
      "execution_count": null,
      "outputs": [
        {
          "output_type": "stream",
          "name": "stdout",
          "text": [
            "Collecting sklearn-crfsuite\n",
            "  Downloading sklearn_crfsuite-0.3.6-py2.py3-none-any.whl (12 kB)\n",
            "Requirement already satisfied: tqdm>=2.0 in /usr/local/lib/python3.7/dist-packages (from sklearn-crfsuite) (4.62.3)\n",
            "Requirement already satisfied: tabulate in /usr/local/lib/python3.7/dist-packages (from sklearn-crfsuite) (0.8.9)\n",
            "Requirement already satisfied: six in /usr/local/lib/python3.7/dist-packages (from sklearn-crfsuite) (1.15.0)\n",
            "Collecting python-crfsuite>=0.8.3\n",
            "  Downloading python_crfsuite-0.9.7-cp37-cp37m-manylinux1_x86_64.whl (743 kB)\n",
            "\u001b[K     |████████████████████████████████| 743 kB 12.6 MB/s \n",
            "\u001b[?25hInstalling collected packages: python-crfsuite, sklearn-crfsuite\n",
            "Successfully installed python-crfsuite-0.9.7 sklearn-crfsuite-0.3.6\n"
          ]
        }
      ]
    },
    {
      "cell_type": "code",
      "source": [
        "def CRF(x_train, y_train, x_test, y_test):\n",
        "    crf = sklearn_crfsuite.CRF(\n",
        "        algorithm='lbfgs',\n",
        "        c1=0.1,\n",
        "        c2=0.1,\n",
        "        max_iterations=100,\n",
        "        all_possible_transitions=True\n",
        "    )\n",
        "    crf.fit(x_train, y_train)\n",
        "\n",
        "    y_pred = crf.predict(x_test)\n",
        "    y_pred_mar = crf.predict_marginals(x_test)\n",
        "\n",
        "    labels = list(crf.classes_)\n",
        "    labels.remove('O')\n",
        "    f1score = metrics.flat_f1_score(y_test, y_pred, average='weighted', labels=labels)\n",
        "    sorted_labels = sorted(labels,key=lambda name: (name[1:], name[0])) # group B and I results\n",
        "\n",
        "    return y_pred, y_pred_mar, f1score"
      ],
      "metadata": {
        "id": "g_yjAsAnF8W1"
      },
      "execution_count": null,
      "outputs": []
    },
    {
      "cell_type": "markdown",
      "metadata": {
        "id": "Qhx6pJSHRrnW"
      },
      "source": [
        "## Model Input: \n",
        "* input features:\n",
        "    * word vector: pretrained traditional chinese word embedding by Word2Vec-CBOW\n",
        "    \n",
        "    (you may try add some other features, ex. pos-tag, word_length, word_position, ...) "
      ]
    },
    {
      "cell_type": "code",
      "metadata": {
        "id": "7UculQjKRrnW"
      },
      "source": [
        "import numpy as np"
      ],
      "execution_count": null,
      "outputs": []
    },
    {
      "cell_type": "code",
      "metadata": {
        "id": "tHtTSi_8RrnW"
      },
      "source": [
        "# load pretrained word vectors\n",
        "\n",
        "# pretrained word2vec CBOW word vector: https://fasttext.cc/docs/en/crawl-vectors.html 下載中文詞向量 dimention 300\n",
        "dim = 0\n",
        "word_vecs= {}\n",
        "# open pretrained word vector file\n",
        "with open('/content/drive/MyDrive/DataSet/DataSet/cc.zh.300.vec') as f:\n",
        "    for line in f:\n",
        "        tokens = line.strip().split()\n",
        "\n",
        "        # there 2 integers in the first line: vocabulary_size, word_vector_dim\n",
        "        if len(tokens) == 2:\n",
        "            dim = int(tokens[1])\n",
        "            continue\n",
        "    \n",
        "        word = tokens[0] \n",
        "        vec = np.array([ float(t) for t in tokens[1:] ])\n",
        "        word_vecs[word] = vec"
      ],
      "execution_count": null,
      "outputs": []
    },
    {
      "cell_type": "code",
      "metadata": {
        "scrolled": true,
        "id": "ey0U_XhpRrnW",
        "colab": {
          "base_uri": "https://localhost:8080/"
        },
        "outputId": "ab94b286-6d60-4a9e-d20d-28ad58b01c5c"
      },
      "source": [
        "print('vocabulary_size: ',len(word_vecs),' word_vector_dim: ',vec.shape)"
      ],
      "execution_count": null,
      "outputs": [
        {
          "output_type": "stream",
          "name": "stdout",
          "text": [
            "vocabulary_size:  2000000  word_vector_dim:  (300,)\n"
          ]
        }
      ]
    },
    {
      "cell_type": "markdown",
      "metadata": {
        "id": "W6RsMn2QRrnW"
      },
      "source": [
        "Here we split data into training dataset and testing dataset,\n",
        "however, we'll provide `development data` and `test data` which is real testing dataset.\n",
        "\n",
        "You should upload prediction on `development data` and `test data` to system, not this splitted testing dataset."
      ]
    },
    {
      "cell_type": "code",
      "metadata": {
        "id": "ySlER2ErRrnW"
      },
      "source": [
        "# load `train.data` and separate into a list of labeled data of each text\n",
        "# return:\n",
        "#   data_list: a list of lists of tuples, storing tokens and labels (wrapped in tuple) of each text in `train.data`\n",
        "#   traindata_list: a list of lists, storing training data_list splitted from data_list\n",
        "#   testdata_list: a list of lists, storing testing data_list splitted from data_list\n",
        "from sklearn.model_selection import train_test_split\n",
        "def Dataset(data_path):\n",
        "    with open(data_path, 'r', encoding='utf-8') as f:\n",
        "        data=f.readlines()#.encode('utf-8').decode('utf-8-sig')\n",
        "    data_list, data_list_tmp = list(), list()\n",
        "    article_id_list=list()\n",
        "    idx=0\n",
        "    for row in data:\n",
        "        data_tuple = tuple()\n",
        "        if row == '\\n':\n",
        "            article_id_list.append(idx)\n",
        "            idx+=1\n",
        "            data_list.append(data_list_tmp)\n",
        "            data_list_tmp = []\n",
        "        else:\n",
        "            row = row.strip('\\n').split(' ')\n",
        "            data_tuple = (row[0], row[1])\n",
        "            data_list_tmp.append(data_tuple)\n",
        "    if len(data_list_tmp) != 0:\n",
        "        data_list.append(data_list_tmp)\n",
        "    \n",
        "    # here we random split data into training dataset and testing dataset\n",
        "    # but you should take `development data` or `test data` as testing data\n",
        "    # At that time, you could just delete this line, \n",
        "    # and generate data_list of `train data` and data_list of `development/test data` by this function\n",
        "    traindata_list, testdata_list, traindata_article_id_list, testdata_article_id_list=train_test_split(data_list,\n",
        "                                                                                                    article_id_list,\n",
        "                                                                                                    test_size=0.33,\n",
        "                                                                                                    random_state=42)\n",
        "    \n",
        "    return data_list, traindata_list, testdata_list, traindata_article_id_list, testdata_article_id_list "
      ],
      "execution_count": null,
      "outputs": []
    },
    {
      "cell_type": "code",
      "metadata": {
        "id": "T3P8vbYGRrnX"
      },
      "source": [
        "# look up word vectors\n",
        "# turn each word into its pretrained word vector\n",
        "# return a list of word vectors corresponding to each token in train.data\n",
        "def Word2Vector(data_list, embedding_dict):\n",
        "    embedding_list = list()\n",
        "\n",
        "    # No Match Word (unknown word) Vector in Embedding\n",
        "    unk_vector=np.random.rand(*(list(embedding_dict.values())[0].shape))\n",
        "\n",
        "    for idx_list in range(len(data_list)):\n",
        "        embedding_list_tmp = list()\n",
        "        for idx_tuple in range(len(data_list[idx_list])):\n",
        "            key = data_list[idx_list][idx_tuple][0] # token\n",
        "\n",
        "            if key in embedding_dict:\n",
        "                value = embedding_dict[key]\n",
        "            else:\n",
        "                value = unk_vector\n",
        "            embedding_list_tmp.append(value)\n",
        "        embedding_list.append(embedding_list_tmp)\n",
        "    return embedding_list"
      ],
      "execution_count": null,
      "outputs": []
    },
    {
      "cell_type": "code",
      "metadata": {
        "id": "qzmKa42yRrnX"
      },
      "source": [
        "# input features: pretrained word vectors of each token\n",
        "# return a list of feature dicts, each feature dict corresponding to each token\n",
        "def Feature(embed_list):\n",
        "    feature_list = list()\n",
        "    for idx_list in range(len(embed_list)):\n",
        "        feature_list_tmp = list()\n",
        "        for idx_tuple in range(len(embed_list[idx_list])):\n",
        "            feature_dict = dict()\n",
        "            for idx_vec in range(len(embed_list[idx_list][idx_tuple])):\n",
        "                feature_dict['dim_' + str(idx_vec+1)] = embed_list[idx_list][idx_tuple][idx_vec]\n",
        "            feature_list_tmp.append(feature_dict)\n",
        "        feature_list.append(feature_list_tmp)\n",
        "    return feature_list"
      ],
      "execution_count": null,
      "outputs": []
    },
    {
      "cell_type": "code",
      "metadata": {
        "id": "dNa4fSkYRrnX"
      },
      "source": [
        "# get the labels of each tokens in train.data\n",
        "# return a list of lists of labels\n",
        "def Preprocess(data_list):\n",
        "    label_list = list()\n",
        "    for idx_list in range(len(data_list)):\n",
        "        label_list_tmp = list()\n",
        "        for idx_tuple in range(len(data_list[idx_list])):\n",
        "            label_list_tmp.append(data_list[idx_list][idx_tuple][1])\n",
        "        label_list.append(label_list_tmp)\n",
        "    return label_list"
      ],
      "execution_count": null,
      "outputs": []
    },
    {
      "cell_type": "markdown",
      "metadata": {
        "id": "Wdoz84b0RrnX"
      },
      "source": [
        "## Training"
      ]
    },
    {
      "cell_type": "code",
      "metadata": {
        "id": "e_uGdFy3RrnX"
      },
      "source": [
        "data_list, traindata_list, testdata_list, traindata_article_id_list, testdata_article_id_list = Dataset(data_path)"
      ],
      "execution_count": null,
      "outputs": []
    },
    {
      "cell_type": "code",
      "metadata": {
        "id": "BDc_mtuXRrnX"
      },
      "source": [
        "# Load Word Embedding\n",
        "trainembed_list = Word2Vector(traindata_list, word_vecs)\n",
        "testembed_list = Word2Vector(testdata_list, word_vecs)\n",
        "\n",
        "# CRF - Train Data (Augmentation Data)\n",
        "x_train = Feature(trainembed_list)\n",
        "y_train = Preprocess(traindata_list)\n",
        "\n",
        "# CRF - Test Data (Golden Standard)\n",
        "x_test = Feature(testembed_list)\n",
        "y_test = Preprocess(testdata_list)"
      ],
      "execution_count": null,
      "outputs": []
    },
    {
      "cell_type": "code",
      "metadata": {
        "id": "hbhes9eBRrnX"
      },
      "source": [
        "y_pred, y_pred_mar, f1score = CRF(x_train, y_train, x_test, y_test)"
      ],
      "execution_count": null,
      "outputs": []
    },
    {
      "cell_type": "code",
      "metadata": {
        "scrolled": true,
        "id": "H02UitQBRrnX",
        "colab": {
          "base_uri": "https://localhost:8080/"
        },
        "outputId": "8074caf2-77fa-4d7d-854b-639a27af1d12"
      },
      "source": [
        "f1score"
      ],
      "execution_count": null,
      "outputs": [
        {
          "output_type": "execute_result",
          "data": {
            "text/plain": [
              "0.6012018963243285"
            ]
          },
          "metadata": {},
          "execution_count": 20
        }
      ]
    },
    {
      "cell_type": "markdown",
      "metadata": {
        "id": "j0nOItHSRrnX"
      },
      "source": [
        "## Output data\n",
        "* Change model output into `output.tsv` \n",
        "* Only accept this output format uploading to competition system"
      ]
    },
    {
      "cell_type": "code",
      "metadata": {
        "id": "QC66RB5tRrnX"
      },
      "source": [
        "output=\"article_id\\tstart_position\\tend_position\\tentity_text\\tentity_type\\n\"\n",
        "for test_id in range(len(y_pred)):\n",
        "    pos=0\n",
        "    start_pos=None\n",
        "    end_pos=None\n",
        "    entity_text=None\n",
        "    entity_type=None\n",
        "    for pred_id in range(len(y_pred[test_id])):\n",
        "        if y_pred[test_id][pred_id][0]=='B':\n",
        "            start_pos=pos\n",
        "            entity_type=y_pred[test_id][pred_id][2:]\n",
        "        elif start_pos is not None and y_pred[test_id][pred_id][0]=='I' and y_pred[test_id][pred_id+1][0]=='O':\n",
        "            end_pos=pos\n",
        "            entity_text=''.join([testdata_list[test_id][position][0] for position in range(start_pos,end_pos+1)])\n",
        "            line=str(testdata_article_id_list[test_id])+'\\t'+str(start_pos)+'\\t'+str(end_pos+1)+'\\t'+entity_text+'\\t'+entity_type\n",
        "            output+=line+'\\n'\n",
        "        pos+=1     "
      ],
      "execution_count": null,
      "outputs": []
    },
    {
      "cell_type": "code",
      "metadata": {
        "id": "40HnTWGtRrnX"
      },
      "source": [
        "output_path='output.tsv'\n",
        "with open(output_path,'w',encoding='utf-8') as f:\n",
        "    f.write(output)"
      ],
      "execution_count": null,
      "outputs": []
    },
    {
      "cell_type": "code",
      "metadata": {
        "scrolled": true,
        "id": "-M36pQhxRrnX",
        "colab": {
          "base_uri": "https://localhost:8080/"
        },
        "outputId": "6ca60e52-5314-4629-e528-9f4faa5d7bc2"
      },
      "source": [
        "print(output)"
      ],
      "execution_count": null,
      "outputs": [
        {
          "output_type": "stream",
          "name": "stdout",
          "text": [
            "article_id\tstart_position\tend_position\tentity_text\tentity_type\n",
            "8\t10\t12\t38\tmed_exam\n",
            "8\t189\t193\t二十分鐘\ttime\n",
            "8\t293\t295\t五年\ttime\n",
            "8\t519\t521\t吩咐\ttime\n",
            "8\t540\t544\t兩個禮拜\ttime\n",
            "8\t858\t862\t前天下午\ttime\n",
            "8\t1354\t1356\t娜美\tname\n",
            "8\t1549\t1551\t五天\ttime\n",
            "8\t1622\t1627\t五天禮拜三\ttime\n",
            "8\t1939\t1941\t恍惚\ttime\n",
            "8\t1992\t1997\t禮拜三下午\ttime\n",
            "8\t2279\t2282\t185\tmed_exam\n",
            "8\t2377\t2380\t185\tmed_exam\n",
            "8\t2387\t2390\t185\tmed_exam\n",
            "8\t2560\t2563\t兩個月\ttime\n",
            "8\t2671\t2674\t155\tmed_exam\n",
            "8\t2679\t2682\t155\tmed_exam\n",
            "8\t2696\t2699\t155\tmed_exam\n",
            "16\t60\t66\t九、十點晚上\ttime\n",
            "16\t122\t124\t三年\ttime\n",
            "16\t130\t132\t三年\ttime\n",
            "16\t247\t249\t三年\ttime\n",
            "16\t592\t595\t5個月\ttime\n",
            "0\t55\t57\t68\tmed_exam\n",
            "0\t66\t68\t68\tmed_exam\n",
            "0\t435\t437\t歐洲\tlocation\n",
            "0\t1264\t1271\t10.78公分\tmed_exam\n",
            "0\t2523\t2526\t法馬上\ttime\n",
            "0\t2575\t2578\t四五天\ttime\n",
            "0\t2604\t2609\t3月18號\ttime\n",
            "0\t2630\t2635\t3月24日\ttime\n",
            "0\t2650\t2654\t3月24\ttime\n",
            "0\t2663\t2670\t禮拜二到禮拜四\ttime\n",
            "0\t2692\t2697\t3月31日\ttime\n",
            "24\t48\t51\t三個月\ttime\n",
            "24\t53\t56\t七公斤\tmed_exam\n",
            "24\t113\t115\t三年\ttime\n",
            "24\t141\t144\t三年間\ttime\n",
            "24\t496\t499\t來箝制\ttime\n",
            "24\t536\t539\t來箝制\ttime\n",
            "24\t547\t550\t來箝制\ttime\n",
            "24\t1018\t1023\t5月28日\ttime\n",
            "24\t1196\t1200\t300塊\tmoney\n",
            "24\t1247\t1250\t30塊\tmoney\n",
            "24\t1398\t1401\t能馬上\ttime\n",
            "24\t1858\t1861\t二個月\ttime\n",
            "24\t1869\t1872\t二個月\ttime\n",
            "24\t1986\t1989\t五個月\ttime\n",
            "11\t18\t21\t九千七\tmoney\n",
            "11\t82\t86\t天九千七\tmoney\n",
            "11\t107\t110\t8.5\tmed_exam\n",
            "11\t111\t115\t12.4\tmed_exam\n",
            "11\t118\t121\t3.6\tmed_exam\n",
            "11\t135\t139\t三個禮拜\ttime\n",
            "11\t514\t518\t三個禮拜\ttime\n",
            "11\t557\t561\t三個禮拜\ttime\n",
            "11\t569\t573\t三個禮拜\ttime\n",
            "11\t645\t649\t三個禮拜\ttime\n",
            "11\t672\t676\t三個禮拜\ttime\n",
            "11\t693\t697\t兩個禮拜\ttime\n",
            "11\t707\t713\t後四月二十日\ttime\n",
            "11\t751\t755\t兩個禮拜\ttime\n",
            "11\t1077\t1080\t666\tmed_exam\n",
            "11\t1084\t1087\t666\tmed_exam\n",
            "11\t1095\t1097\t98\tmed_exam\n",
            "11\t1102\t1104\t98\tmed_exam\n",
            "11\t1109\t1113\t7403\tmed_exam\n",
            "11\t1117\t1121\t7403\tmed_exam\n",
            "11\t1125\t1135\t6660897403\tmed_exam\n",
            "11\t1142\t1148\t666098\tmed_exam\n",
            "11\t1153\t1159\t987403\tmed_exam\n",
            "9\t70\t74\t兩千多塊\tmoney\n",
            "9\t184\t190\t85.5公斤\tmed_exam\n",
            "9\t273\t276\t泳四天\ttime\n",
            "9\t290\t294\t四十分鐘\ttime\n",
            "9\t743\t746\t374\tmed_exam\n",
            "9\t800\t802\t39\tmed_exam\n",
            "9\t834\t837\t505\tmed_exam\n",
            "13\t37\t39\t95\tmed_exam\n",
            "13\t64\t66\t95\tmed_exam\n",
            "13\t74\t76\t95\tmed_exam\n",
            "13\t145\t150\t2月20號\ttime\n",
            "13\t153\t155\t78\tmed_exam\n",
            "13\t393\t397\t第六個月\ttime\n",
            "13\t435\t439\t500塊\tmoney\n",
            "13\t444\t448\t500塊\tmoney\n",
            "13\t549\t553\t第六個月\ttime\n",
            "13\t636\t641\t4月20號\ttime\n",
            "13\t662\t664\t5月\ttime\n",
            "13\t671\t673\t5月\ttime\n",
            "13\t678\t681\t5月初\ttime\n",
            "13\t701\t705\t兩個禮拜\ttime\n",
            "13\t721\t723\t半月\ttime\n",
            "13\t731\t735\t5月1號\ttime\n",
            "13\t774\t776\t5月\ttime\n",
            "13\t784\t788\t四個禮拜\ttime\n",
            "13\t793\t797\t四個禮拜\ttime\n",
            "13\t804\t808\t4月17\ttime\n",
            "13\t830\t834\t4月17\ttime\n",
            "13\t891\t896\t3月20號\ttime\n",
            "13\t946\t950\t四個禮拜\ttime\n",
            "13\t1050\t1055\t2月20號\ttime\n",
            "13\t1081\t1083\t37\tmed_exam\n",
            "1\t235\t237\t中午\ttime\n",
            "1\t254\t256\t中午\ttime\n",
            "1\t802\t805\t三個月\ttime\n",
            "1\t904\t908\t五十二百\tmoney\n",
            "1\t915\t919\t五十二百\tmoney\n",
            "1\t1052\t1055\t五個月\ttime\n",
            "1\t1340\t1344\t馬馬虎虎\tlocation\n",
            "1\t1349\t1353\t馬馬虎虎\tlocation\n",
            "1\t1382\t1387\t二零一六年\ttime\n",
            "1\t1394\t1396\t四年\ttime\n",
            "1\t1404\t1406\t四年\ttime\n",
            "1\t1414\t1416\t四年\ttime\n",
            "1\t2261\t2263\t半月\ttime\n",
            "1\t2295\t2299\t兩個禮拜\ttime\n",
            "1\t2334\t2338\t三個禮拜\ttime\n",
            "1\t2403\t2407\t正陳醫師\tname\n",
            "23\t275\t278\t三個月\ttime\n",
            "23\t339\t343\t4月27\ttime\n",
            "23\t535\t538\t三個月\ttime\n",
            "23\t540\t543\t二個月\ttime\n",
            "23\t556\t559\t三個月\ttime\n",
            "23\t629\t633\t8月1號\ttime\n",
            "23\t1584\t1588\t8月21\ttime\n",
            "23\t1592\t1596\t8月2號\ttime\n",
            "23\t1600\t1603\t821\ttime\n",
            "23\t1642\t1645\t821\ttime\n",
            "\n"
          ]
        }
      ]
    },
    {
      "cell_type": "markdown",
      "metadata": {
        "id": "36oJuO06RrnX"
      },
      "source": [
        "## Note\n",
        "* You may try `python-crfsuite` to train an neural network for NER tagging optimized by gradient descent back propagation\n",
        "    * [Documentation](https://github.com/scrapinghub/python-crfsuite)\n",
        "* You may try `CRF++` tool for NER tagging by CRF model\n",
        "    * [Documentation](http://taku910.github.io/crfpp/)\n",
        "    * Need design feature template\n",
        "    * Can only computed in CPU\n",
        "* You may try other traditional chinese word embedding (ex. fasttext, bert, ...) for input features\n",
        "* You may try add other features for NER model, ex. POS-tag, word_length, word_position, ...\n",
        "* You should upload the prediction output on `development data` or `test data` provided later to the competition system. Note don't upload prediction output on the splitted testing dataset like this baseline example."
      ]
    },
    {
      "cell_type": "markdown",
      "metadata": {
        "id": "yOuPLXj8RrnX"
      },
      "source": [
        "-----------------------------------------------------"
      ]
    }
  ]
}